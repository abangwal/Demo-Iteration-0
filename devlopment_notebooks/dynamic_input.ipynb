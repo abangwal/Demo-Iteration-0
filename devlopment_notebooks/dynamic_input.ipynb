{
 "cells": [
  {
   "cell_type": "code",
   "execution_count": 3,
   "id": "466de681-bdb9-4446-9daa-e1020880689f",
   "metadata": {},
   "outputs": [],
   "source": [
    "from tools.web_tool import WebTool\n",
    "import json\n",
    "import openai\n",
    "from pydantic import BaseModel, Field\n",
    "from typing import List\n",
    "from nltk.corpus import stopwords\n",
    "from nltk.tokenize import word_tokenize\n",
    "\n",
    "# Create clientkey\n",
    "client = openai.OpenAI(\n",
    "    base_url=\"https://api.together.xyz/v1\",\n",
    "    api_key='',\n",
    ")"
   ]
  },
  {
   "cell_type": "code",
   "execution_count": 4,
   "id": "1003c784-32da-4ba3-a39a-d0abfbc1d943",
   "metadata": {},
   "outputs": [],
   "source": [
    "class SubTask(BaseModel):\n",
    "    sub_task : str = Field(description=\"A sub-task name to be done to complete the given task.\")\n",
    "    sub_task_description : str = Field(description=\"Detailed description about the subtask\")\n",
    "\n",
    "class ListOfSubTasks(BaseModel):\n",
    "    sub_tasks : List[SubTask] = Field(description=\"List of subtask to be done to complete the given task at hand.\")"
   ]
  },
  {
   "cell_type": "code",
   "execution_count": 5,
   "id": "2986d8d9-35f1-448e-b3a9-0006f340c718",
   "metadata": {},
   "outputs": [
    {
     "name": "stdout",
     "output_type": "stream",
     "text": [
      " {\n",
      "  \"sub_tasks\": [\n",
      "    {\n",
      "      \"sub_task_description\": \"Research and gather data on the current state of hydrogen fuel technology in the automotive industry.\"\n",
      "    ,\n",
      "      \"sub_task\": \"Hydrogen Fuel Technology Research\"\n",
      "    },\n",
      "    {\n",
      "      \"sub_task_description\": \"Analyze the market size and growth potential of hydrogen fuel cell vehicles.\"\n",
      "    ,\n",
      "      \"sub_task\": \"Market Size and Growth Analysis\"\n",
      "    },\n",
      "    {\n",
      "      \"sub_task_description\": \"Identify key players in the hydrogen fuel cell vehicle market and analyze their market share, strategies, and performance.\"\n",
      "    ,\n",
      "      \"sub_task\": \"Key Players and Market Share Analysis\"\n",
      "    },\n",
      "    {\n",
      "      \"sub_task_description\": \"Examine the regulatory environment and government policies affecting the adoption of hydrogen fuel cell vehicles.\"\n",
      "    ,\n",
      "      \"sub_task\": \"Regulatory Environment and Government Policies Analysis\"\n",
      "    },\n",
      "    {\n",
      "      \"sub_task_description\": \"Evaluate the infrastructure for hydrogen fueling stations and its impact on the growth of hydrogen fuel cell vehicles.\"\n",
      "    ,\n",
      "      \"sub_task\": \"Infrastructure Analysis\"\n",
      "    },\n",
      "    {\n",
      "      \"sub_task_description\": \"Identify challenges and opportunities for the hydrogen fuel cell vehicle market, including technological advancements, cost reduction, and consumer acceptance.\"\n",
      "    ,\n",
      "      \"sub_task\": \"Challenges and Opportunities Analysis\"\n",
      "    },\n",
      "    {\n",
      "      \"sub_task_description\": \"Summarize findings and provide recommendations for investment opportunities, potential partnerships, or areas for further research in the hydrogen fuel cell vehicle market.\"\n",
      "    ,\n",
      "      \"sub_task\": \"Recommendations and Conclusion\"\n",
      "    }\n",
      "  ]\n",
      "}\n"
     ]
    }
   ],
   "source": [
    "user_query = \"Hydrogen fule in automotive industry analysis\"\n",
    "message = [\n",
    "    {\"role\": \"system\", \"content\": \"You are a helpful and experienced market analyst. Use your own intelligence to provide the tasks and subtasks for completing the GOAL. Dont use any formatting, Answer in provided JSON schema\"},\n",
    "    {\"role\": \"user\", \"content\": f\"Tell subtasks to complete the GOAL : {user_query}\"}\n",
    "]\n",
    "response = client.chat.completions.create(\n",
    "    model=\"mistralai/Mixtral-8x7B-Instruct-v0.1\",\n",
    "    messages=message,\n",
    "    response_format={\"type\": \"json_object\", \"schema\": ListOfSubTasks.model_json_schema()},\n",
    "    frequency_penalty = 0.1,\n",
    "    temperature=0\n",
    ")\n",
    "print(response.choices[0].message.content)"
   ]
  },
  {
   "cell_type": "code",
   "execution_count": 6,
   "id": "0f070eae-4b8d-459f-903d-f147d586afa8",
   "metadata": {},
   "outputs": [],
   "source": [
    "def get_sub_tasks(message):\n",
    "    response = client.chat.completions.create(\n",
    "        model=\"mistralai/Mixtral-8x7B-Instruct-v0.1\",\n",
    "        messages=message,\n",
    "        response_format={\"type\": \"json_object\", \"schema\": ListOfSubTasks.model_json_schema()},\n",
    "        frequency_penalty = 0.1,\n",
    "        temperature=0\n",
    "    )\n",
    "    response = response.choices[0].message.content\n",
    "    r = json.loads(response)\n",
    "    sub_tasks = []\n",
    "    sub_tasks_description = []\n",
    "    \n",
    "    for i in r['sub_tasks']:\n",
    "        sub_tasks.append(i['sub_task'])\n",
    "        sub_tasks_description.append(i['sub_task_description'])\n",
    "\n",
    "    return sub_tasks,sub_tasks_description,response"
   ]
  },
  {
   "cell_type": "code",
   "execution_count": 7,
   "id": "cf788c89-6885-4635-85db-ca2766108579",
   "metadata": {},
   "outputs": [
    {
     "name": "stdout",
     "output_type": "stream",
     "text": [
      "User Query : Smart wearables business analysis\n",
      "\n",
      "\n",
      "Running 1/7\n",
      "Running 2/7\n",
      "Running 3/7\n",
      "Running 4/7\n",
      "Running 5/7\n",
      "Running 6/7\n",
      "Running 7/7\n",
      "time taken 161.1968698501587\n"
     ]
    }
   ],
   "source": [
    "import time\n",
    "\n",
    "x = time.time()\n",
    "user_query = \"Smart wearables business analysis\"\n",
    "data_dict = {user_query : {}}\n",
    "message = [\n",
    "    {\"role\": \"system\", \"content\": \"You are a helpful and experienced market analyst. Use your own intelligence to provide the subtasks for completing the TASK. Dont use any formatting, Answer in provided JSON schema\"},\n",
    "    {\"role\": \"user\", \"content\": f\"Tell subtasks to complete the TASK : {user_query}\"}\n",
    "]\n",
    "\n",
    "print(f\"User Query : {user_query}\\n\\n\")\n",
    "sub_tasks,sub_task_descriptions,assistants = get_sub_tasks(message) \n",
    "    \n",
    "for i in range(len(sub_tasks)):\n",
    "    print(f\"Running {i+1}/{len(sub_tasks)}\")\n",
    "    query = sub_task_descriptions[i]\n",
    "    temp_msg = message.copy()\n",
    "    temp_msg.append({\"role\":\"assistant\",\"content\":assistants})\n",
    "    temp_msg.append({\"role\":\"user\",\"content\":f\"Now Tell me subtasks to complete the TASK : {query}\"})\n",
    "    sts,stds,_ = get_sub_tasks(temp_msg)\n",
    "    response = list(zip(sts,stds))\n",
    "    data_dict[user_query][sub_tasks[i]] = response\n",
    "\n",
    "print(\"time taken\" , time.time()-x)"
   ]
  },
  {
   "cell_type": "code",
   "execution_count": 8,
   "id": "43c2ebfc-dbdc-4358-a883-0917f536bac4",
   "metadata": {},
   "outputs": [],
   "source": [
    "import json\n",
    "with open(\"pizza_example.json\",'w') as file:\n",
    "    json.dump(data_dict,file,indent=4)"
   ]
  },
  {
   "cell_type": "code",
   "execution_count": 26,
   "id": "744e58e7-9d00-48a5-afe4-eebd1acfdee4",
   "metadata": {},
   "outputs": [],
   "source": [
    "from tools.json2html_report import json2html_report"
   ]
  },
  {
   "cell_type": "code",
   "execution_count": 27,
   "id": "9a19143d-e1c3-4fc6-be83-d1384f5fd3d2",
   "metadata": {},
   "outputs": [],
   "source": [
    "import json\n",
    "with open(\"pizza_example.json\",'r') as file:\n",
    "    d = json.load(file)"
   ]
  },
  {
   "cell_type": "code",
   "execution_count": 28,
   "id": "66e84389-ff5c-4bbf-a1ee-5712630b5885",
   "metadata": {},
   "outputs": [],
   "source": [
    "r = {}"
   ]
  },
  {
   "cell_type": "code",
   "execution_count": 31,
   "id": "b07dc055-be0a-4795-b545-312bf4e4c221",
   "metadata": {},
   "outputs": [],
   "source": [
    "for i in d['Smart wearables business analysis']:\n",
    "    da = []\n",
    "    for j in d['Smart wearables business analysis'][i]:\n",
    "        da.append({'Sub Task':j[0].strip(),'Description':j[1].strip()})\n",
    "    r[i] = da"
   ]
  },
  {
   "cell_type": "code",
   "execution_count": null,
   "id": "118cd2b9-06cd-441a-bd2f-7a1ee6f73852",
   "metadata": {},
   "outputs": [],
   "source": [
    "print(json2html_report(r,'Pizza cafe business analysis'))"
   ]
  },
  {
   "cell_type": "code",
   "execution_count": 1,
   "id": "9581b23e-aeb2-4473-8899-96055bb61a38",
   "metadata": {},
   "outputs": [],
   "source": [
    "data = {\n",
    "  \"checked\": [\n",
    "    \"Identify and gather data from reputable sources on the current market size of the smart wearables industry, including revenue and unit sales.\",\n",
    "    \"Identify potential challenges to market growth, such as regulatory issues or competition from other industries.\",\n",
    "    \"Create a list of key players in the smart wearables market through research and data collection.\",\n",
    "    \"Analyze the product offerings of each key player, including features, pricing, and target markets.\",\n",
    "    \"Gather data on demographic trends in the smart wearables market, including age, gender, income level, and geographic location.\",\n",
    "    \"Investigate consumer attitudes towards data privacy and security in the context of smart wearables devices.\",\n",
    "    \"Research and identify recent technological advancements in the smart wearables industry, such as new materials, sensors, and battery technologies.\",\n",
    "    \"Explore potential use cases for new product innovations and emerging technologies in the smart wearables industry.\",\n",
    "    \"Research and analyze existing regulations and policies that affect the smart wearables industry in major markets.\",\n",
    "    \"Identify key competitors in the smart wearables market and analyze their strengths, weaknesses, opportunities, and threats (SWOT analysis).\",\n",
    "    \"Summarize key findings from previous sub-tasks related to market size, growth rate, key players, consumer trends, technological advancements, and opportunities/challenges.\",\n",
    "    \"Evaluate regulatory requirements and potential risks associated with entering or expanding in the smart wearables market.\"\n",
    "  ],\n",
    "  \"expanded\": [\n",
    "    \"Market_Size_and_Growth_Rate\",\n",
    "    \"Key_Player_Analysis\",\n",
    "    \"Consumer_Trends\",\n",
    "    \"Technological_Impact\",\n",
    "    \"Opportunities_and_Challenges\",\n",
    "    \"Recommendations\"\n",
    "  ]\n",
    "}"
   ]
  },
  {
   "cell_type": "code",
   "execution_count": null,
   "id": "b11546b7-1428-48a5-b5f7-f47963e60c5a",
   "metadata": {},
   "outputs": [],
   "source": []
  }
 ],
 "metadata": {
  "kernelspec": {
   "display_name": "Python 3 (ipykernel)",
   "language": "python",
   "name": "python3"
  },
  "language_info": {
   "codemirror_mode": {
    "name": "ipython",
    "version": 3
   },
   "file_extension": ".py",
   "mimetype": "text/x-python",
   "name": "python",
   "nbconvert_exporter": "python",
   "pygments_lexer": "ipython3",
   "version": "3.10.12"
  }
 },
 "nbformat": 4,
 "nbformat_minor": 5
}
