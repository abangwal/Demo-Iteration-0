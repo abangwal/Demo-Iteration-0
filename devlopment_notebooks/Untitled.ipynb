{
 "cells": [
  {
   "cell_type": "code",
   "execution_count": 1,
   "id": "0e612a57-488c-49be-ab49-49217e53d740",
   "metadata": {},
   "outputs": [],
   "source": [
    "from tools.web_tool import WebTool\n",
    "import time"
   ]
  },
  {
   "cell_type": "code",
   "execution_count": 2,
   "id": "da45bb1c-2a64-46b5-ad7b-027925225a08",
   "metadata": {},
   "outputs": [
    {
     "name": "stderr",
     "output_type": "stream",
     "text": [
      "/home/ashish/.local/lib/python3.10/site-packages/urllib3/connectionpool.py:1103: InsecureRequestWarning: Unverified HTTPS request is being made to host 'blog.osum.com'. Adding certificate verification is strongly advised. See: https://urllib3.readthedocs.io/en/latest/advanced-usage.html#tls-warnings\n",
      "  warnings.warn(\n",
      "/home/ashish/.local/lib/python3.10/site-packages/urllib3/connectionpool.py:1103: InsecureRequestWarning: Unverified HTTPS request is being made to host 'world.casio.com'. Adding certificate verification is strongly advised. See: https://urllib3.readthedocs.io/en/latest/advanced-usage.html#tls-warnings\n",
      "  warnings.warn(\n",
      "/home/ashish/.local/lib/python3.10/site-packages/urllib3/connectionpool.py:1103: InsecureRequestWarning: Unverified HTTPS request is being made to host 'blog.osum.com'. Adding certificate verification is strongly advised. See: https://urllib3.readthedocs.io/en/latest/advanced-usage.html#tls-warnings\n",
      "  warnings.warn(\n",
      "/home/ashish/.local/lib/python3.10/site-packages/urllib3/connectionpool.py:1103: InsecureRequestWarning: Unverified HTTPS request is being made to host 'www.mbaskool.com'. Adding certificate verification is strongly advised. See: https://urllib3.readthedocs.io/en/latest/advanced-usage.html#tls-warnings\n",
      "  warnings.warn(\n",
      "/home/ashish/.local/lib/python3.10/site-packages/urllib3/connectionpool.py:1103: InsecureRequestWarning: Unverified HTTPS request is being made to host 'world.casio.com'. Adding certificate verification is strongly advised. See: https://urllib3.readthedocs.io/en/latest/advanced-usage.html#tls-warnings\n",
      "  warnings.warn(\n",
      "/home/ashish/.local/lib/python3.10/site-packages/urllib3/connectionpool.py:1103: InsecureRequestWarning: Unverified HTTPS request is being made to host 'www.swotandpestle.com'. Adding certificate verification is strongly advised. See: https://urllib3.readthedocs.io/en/latest/advanced-usage.html#tls-warnings\n",
      "  warnings.warn(\n",
      "/home/ashish/.local/lib/python3.10/site-packages/urllib3/connectionpool.py:1103: InsecureRequestWarning: Unverified HTTPS request is being made to host 'www.mbaskool.com'. Adding certificate verification is strongly advised. See: https://urllib3.readthedocs.io/en/latest/advanced-usage.html#tls-warnings\n",
      "  warnings.warn(\n",
      "/home/ashish/.local/lib/python3.10/site-packages/urllib3/connectionpool.py:1103: InsecureRequestWarning: Unverified HTTPS request is being made to host 'world.casio.com'. Adding certificate verification is strongly advised. See: https://urllib3.readthedocs.io/en/latest/advanced-usage.html#tls-warnings\n",
      "  warnings.warn(\n"
     ]
    }
   ],
   "source": [
    "raw_data = \"\"\n",
    "l = ['What are the strengths of casio watches as a business?',\n",
    "  'What are the weaknesses of casio watches as a business?',\n",
    "  'What are the opportunities for casio watches as a business?',\n",
    "  'What are the threats to casio watches as a business?']\n",
    "for i in l:\n",
    "    raw_data += WebTool().fetch_content(text=i)\n",
    "    raw_data += \"\\n\\n\"\n",
    "    time.sleep(0.5)"
   ]
  },
  {
   "cell_type": "code",
   "execution_count": null,
   "id": "3a3e6033-eb97-4bd2-9037-8759d5571f3b",
   "metadata": {},
   "outputs": [],
   "source": [
    "print(raw_data)"
   ]
  },
  {
   "cell_type": "code",
   "execution_count": 1,
   "id": "c39acd74-4a46-4da7-a4e3-214b27c36d93",
   "metadata": {},
   "outputs": [],
   "source": [
    "import os\n",
    "import json\n",
    "import openai\n",
    "from pydantic import BaseModel, Field\n",
    "\n",
    "# Create client\n",
    "client = openai.OpenAI(\n",
    "    base_url=\"https://api.together.xyz/v1\",\n",
    "    api_key='',\n",
    ")"
   ]
  },
  {
   "cell_type": "code",
   "execution_count": 2,
   "id": "97034ccd-af26-4fe2-8696-5b3ffc41b207",
   "metadata": {},
   "outputs": [],
   "source": [
    "from typing import List\n",
    "\n",
    "class LoS(BaseModel):\n",
    "    \"Get List of strings to complete the given quries\"\n",
    "    los: List[str] = Field(description=\"List of five strings to complete the provided task\")\n",
    "\n",
    "class SWOTAnalysis(BaseModel):\n",
    "    \"SWOT Strength, weakness, opportunity and threat analysis of given company\"\n",
    "    strength: List[str] = Field(description=\"List of strenghts the given company have that make them unique, with detailed description\")\n",
    "    weakness: List[str] = Field(description=\"List of weakness the given company with detailed description\")\n",
    "    opportunity: List[str] = Field(description=\"List of opportunities the given company have that will contribute in the company future growth with detailed description\")\n",
    "    threats: List[str] = Field(description=\"List of threats the given company have that can make business go bust, with detailed description\")"
   ]
  },
  {
   "cell_type": "code",
   "execution_count": 3,
   "id": "810856d9-556f-405a-ac14-2d3e7218d4a0",
   "metadata": {},
   "outputs": [],
   "source": [
    "def get_message(task,**kwargs):\n",
    "    if task == 'web-query':\n",
    "        message = [\n",
    "            {\"role\": \"system\", \"content\": \"You are a helpful assistant. Use your intelligence to complete the task.\"},\n",
    "            {\"role\": \"user\", \"content\": f\"Web search queries for DuckDuckGo search engine for '{kwargs['query']}'\"}\n",
    "        ]\n",
    "    elif task == 'competitors-name':\n",
    "        message = [\n",
    "            {\"role\": \"system\", \"content\": \"You are a helpful and experienced market analyst. Use your intelligence and the provided context(if needed) to complete the task.\"},\n",
    "            {\"role\": \"user\", \"content\": f\"Name that competitors in the '{kwargs['industry']}' industry.\\n\\nCONTEXT :\\n {kwargs['context']}\"}\n",
    "        ]\n",
    "    elif task == 'swot-analysis':\n",
    "        message = [\n",
    "            {\"role\": \"system\", \"content\": \"You are a helpful and experienced market analyst. Use your intelligence the provided context(if needed) to complete the task.\"},\n",
    "            {\"role\": \"user\", \"content\": f\"SWOT analysis on {kwargs['competitor_name']} as a business.\\n\\nCONTEXT :\\n{kwargs['context']}\"}\n",
    "        ]\n",
    "    return message"
   ]
  },
  {
   "cell_type": "code",
   "execution_count": 4,
   "id": "4d46c89c-4a15-4b8b-8807-3c53d67b6875",
   "metadata": {},
   "outputs": [],
   "source": [
    "def get_response(response_schema,message,repetetion_penalty):\n",
    "    response = client.chat.completions.create(\n",
    "        model=\"mistralai/Mistral-7B-Instruct-v0.1\",\n",
    "        messages=message,\n",
    "        response_format={\"type\": \"json_object\", \"schema\": response_schema.model_json_schema()},\n",
    "        frequency_penalty = repetetion_penalty\n",
    "    )\n",
    "    content = json.loads(response.choices[0].message.content)\n",
    "    return content"
   ]
  },
  {
   "cell_type": "code",
   "execution_count": 5,
   "id": "6747b676-667e-484b-a5c2-cbe57aecc0b9",
   "metadata": {},
   "outputs": [],
   "source": [
    "def main(industry):\n",
    "    #get competitors name\n",
    "    message = get_message(task='competitors-name',industry=industry,context='')\n",
    "    competitors_names = get_response(response_schema=LoS,message=message,repetetion_penalty=0.5)['los']\n",
    "    final_report = {}\n",
    "    for competitor in competitors_names[:4]:\n",
    "        msg = get_message(task='swot-analysis',competitor_name=competitor,context='')\n",
    "        swot_report = get_response(response_schema=SWOTAnalysis,message=msg,repetetion_penalty=0.46)\n",
    "        final_report[competitor] = swot_report\n",
    "    return final_report"
   ]
  },
  {
   "cell_type": "code",
   "execution_count": 6,
   "id": "0a08a258-d576-4423-b72c-4933fd62631b",
   "metadata": {},
   "outputs": [],
   "source": [
    "r = main('Smart home apliances')"
   ]
  },
  {
   "cell_type": "code",
   "execution_count": 7,
   "id": "825c68f8-25e6-4c03-a24b-603dc1fd0271",
   "metadata": {},
   "outputs": [
    {
     "data": {
      "text/html": [
       "<div>\n",
       "<style scoped>\n",
       "    .dataframe tbody tr th:only-of-type {\n",
       "        vertical-align: middle;\n",
       "    }\n",
       "\n",
       "    .dataframe tbody tr th {\n",
       "        vertical-align: top;\n",
       "    }\n",
       "\n",
       "    .dataframe thead th {\n",
       "        text-align: right;\n",
       "    }\n",
       "</style>\n",
       "<table border=\"1\" class=\"dataframe\">\n",
       "  <thead>\n",
       "    <tr style=\"text-align: right;\">\n",
       "      <th></th>\n",
       "      <th>Nest</th>\n",
       "      <th>Philips Hue</th>\n",
       "      <th>Samsung SmartThings</th>\n",
       "      <th>Apple HomeKit</th>\n",
       "    </tr>\n",
       "  </thead>\n",
       "  <tbody>\n",
       "    <tr>\n",
       "      <th>strength</th>\n",
       "      <td>[High-quality products, Strong brand recogniti...</td>\n",
       "      <td>[Brand recognition, Wide range of products, In...</td>\n",
       "      <td>[Brand recognition, Wide range of compatible d...</td>\n",
       "      <td>[Apple's brand recognition and reputation, Lar...</td>\n",
       "    </tr>\n",
       "    <tr>\n",
       "      <th>weakness</th>\n",
       "      <td>[High production costs, Limited product range,...</td>\n",
       "      <td>[High competition, Limited product differentia...</td>\n",
       "      <td>[High competition in the smart home market, Li...</td>\n",
       "      <td>[Limited market share compared to competitors,...</td>\n",
       "    </tr>\n",
       "    <tr>\n",
       "      <th>opportunity</th>\n",
       "      <td>[Expansion into new markets, Development of ne...</td>\n",
       "      <td>[Expansion into new markets, Development of ne...</td>\n",
       "      <td>[Growing demand for smart home technology, Exp...</td>\n",
       "      <td>[Growing demand for smart home technology, Exp...</td>\n",
       "    </tr>\n",
       "    <tr>\n",
       "      <th>threats</th>\n",
       "      <td>[Intense competition from other smart home dev...</td>\n",
       "      <td>[Economic downturns, Technological advancement...</td>\n",
       "      <td>[Intense competition from established players ...</td>\n",
       "      <td>[Competition from other smart home platforms s...</td>\n",
       "    </tr>\n",
       "  </tbody>\n",
       "</table>\n",
       "</div>"
      ],
      "text/plain": [
       "                                                          Nest  \\\n",
       "strength     [High-quality products, Strong brand recogniti...   \n",
       "weakness     [High production costs, Limited product range,...   \n",
       "opportunity  [Expansion into new markets, Development of ne...   \n",
       "threats      [Intense competition from other smart home dev...   \n",
       "\n",
       "                                                   Philips Hue  \\\n",
       "strength     [Brand recognition, Wide range of products, In...   \n",
       "weakness     [High competition, Limited product differentia...   \n",
       "opportunity  [Expansion into new markets, Development of ne...   \n",
       "threats      [Economic downturns, Technological advancement...   \n",
       "\n",
       "                                           Samsung SmartThings  \\\n",
       "strength     [Brand recognition, Wide range of compatible d...   \n",
       "weakness     [High competition in the smart home market, Li...   \n",
       "opportunity  [Growing demand for smart home technology, Exp...   \n",
       "threats      [Intense competition from established players ...   \n",
       "\n",
       "                                                 Apple HomeKit  \n",
       "strength     [Apple's brand recognition and reputation, Lar...  \n",
       "weakness     [Limited market share compared to competitors,...  \n",
       "opportunity  [Growing demand for smart home technology, Exp...  \n",
       "threats      [Competition from other smart home platforms s...  "
      ]
     },
     "execution_count": 7,
     "metadata": {},
     "output_type": "execute_result"
    }
   ],
   "source": [
    "import pandas\n",
    "pandas.DataFrame(r)"
   ]
  },
  {
   "cell_type": "code",
   "execution_count": 8,
   "id": "b3244fcc-5cd3-4413-939c-73f859ed4b81",
   "metadata": {},
   "outputs": [
    {
     "name": "stdout",
     "output_type": "stream",
     "text": [
      "JSON converted to HTML report\n"
     ]
    }
   ],
   "source": [
    "import json\n",
    "from tools.json2html_report import json2html_report\n",
    "json_response = json.loads(json.dumps(r))\n",
    "html_content = json2html_report(json_data=json_response,report_title='competition analysis')\n",
    "with open('x.html','w') as file:\n",
    "    file.write(html_content)"
   ]
  },
  {
   "cell_type": "code",
   "execution_count": 10,
   "id": "8c78255f-68b9-42c5-9c8e-1c9714e4a7e6",
   "metadata": {},
   "outputs": [],
   "source": []
  },
  {
   "cell_type": "code",
   "execution_count": null,
   "id": "6caa600d-0734-499c-90fa-96ac20fe2a4e",
   "metadata": {},
   "outputs": [],
   "source": []
  }
 ],
 "metadata": {
  "kernelspec": {
   "display_name": "Python 3 (ipykernel)",
   "language": "python",
   "name": "python3"
  },
  "language_info": {
   "codemirror_mode": {
    "name": "ipython",
    "version": 3
   },
   "file_extension": ".py",
   "mimetype": "text/x-python",
   "name": "python",
   "nbconvert_exporter": "python",
   "pygments_lexer": "ipython3",
   "version": "3.10.12"
  }
 },
 "nbformat": 4,
 "nbformat_minor": 5
}
