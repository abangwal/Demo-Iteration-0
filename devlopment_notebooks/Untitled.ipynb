{
 "cells": [
  {
   "cell_type": "code",
   "execution_count": 1,
   "id": "0e612a57-488c-49be-ab49-49217e53d740",
   "metadata": {},
   "outputs": [],
   "source": [
    "from tools.web_tool import WebTool\n",
    "import time"
   ]
  },
  {
   "cell_type": "code",
   "execution_count": 3,
   "id": "c39acd74-4a46-4da7-a4e3-214b27c36d93",
   "metadata": {},
   "outputs": [],
   "source": [
    "import os\n",
    "import json\n",
    "import openai\n",
    "from pydantic import BaseModel, Field\n",
    "from nltk.corpus import stopwords\n",
    "from nltk.tokenize import word_tokenize\n",
    "\n",
    "# Create client\n",
    "client = openai.OpenAI(\n",
    "    base_url=\"https://api.together.xyz/v1\",\n",
    "    api_key='85e577a7bd21434e2d3f1ab2bd7a2750c6db5eb7ddf09cce131655911c93f622',\n",
    ")"
   ]
  },
  {
   "cell_type": "code",
   "execution_count": 4,
   "id": "97034ccd-af26-4fe2-8696-5b3ffc41b207",
   "metadata": {},
   "outputs": [],
   "source": [
    "from typing import List\n",
    "\n",
    "class LoS(BaseModel):\n",
    "    \"Get List of strings to complete the given quries\"\n",
    "    los: List[str] = Field(description=\"List of five strings to complete the provided task\")\n",
    "\n",
    "class SWOTAnalysis(BaseModel):\n",
    "    \"Market share, sales and SWOT (Strength, weakness, opportunity and threat) analysis of given company\"\n",
    "    numbers : List[str] = Field(description=\"List of key performance indices like market-share, sales, global precense, etc.\")\n",
    "    strength: List[str] = Field(description=\"List of strenghts the given company have that make them unique, with detailed description\")\n",
    "    weakness: List[str] = Field(description=\"List of weakness the given company with detailed description\")\n",
    "    opportunity: List[str] = Field(description=\"List of opportunities the given company have that will contribute in the company future growth with detailed description\")\n",
    "    threats: List[str] = Field(description=\"List of threats the given company have that can make business go bust, with detailed description\")"
   ]
  },
  {
   "cell_type": "code",
   "execution_count": 5,
   "id": "810856d9-556f-405a-ac14-2d3e7218d4a0",
   "metadata": {},
   "outputs": [],
   "source": [
    "def get_message(task,**kwargs):\n",
    "    if task == 'web-query':\n",
    "        message = [\n",
    "            {\"role\": \"system\", \"content\": \"You are a helpful assistant. Use your intelligence to complete the task.\"},\n",
    "            {\"role\": \"user\", \"content\": f\"Web search queries for DuckDuckGo search engine for '{kwargs['query']}'\"}\n",
    "        ]\n",
    "    elif task == 'competitors-name':\n",
    "        message = [\n",
    "            {\"role\": \"system\", \"content\": \"You are a helpful and experienced market analyst. Use your intelligence and the provided context(if needed) to complete the task.\"},\n",
    "            {\"role\": \"user\", \"content\": f\"Name that competitors in the '{kwargs['industry']}' industry.\\n\\nCONTEXT :\\n {kwargs['context']}\"}\n",
    "        ]\n",
    "    elif task == 'swot-analysis':\n",
    "        message = [\n",
    "            {\"role\": \"system\", \"content\": \"You are a helpful and experienced market analyst. Use your intelligence the provided context(if needed) to complete the task, dont make things up. Answer in valid JSON\"},\n",
    "            {\"role\": \"user\", \"content\": f\"Tell Market share, sales number, growth etc. and SWOT analysis on {kwargs['competitor_name']} as a business.\\n\\nCONTEXT :\\n{kwargs['context']}\"}\n",
    "        ]\n",
    "    return message"
   ]
  },
  {
   "cell_type": "code",
   "execution_count": 6,
   "id": "4d46c89c-4a15-4b8b-8807-3c53d67b6875",
   "metadata": {},
   "outputs": [],
   "source": [
    "def get_response(response_schema,message,repetetion_penalty):\n",
    "    response = client.chat.completions.create(\n",
    "        model=\"mistralai/Mistral-7B-Instruct-v0.1\",\n",
    "        messages=message,\n",
    "        response_format={\"type\": \"json_object\", \"schema\": response_schema.model_json_schema()},\n",
    "        frequency_penalty = repetetion_penalty\n",
    "    )\n",
    "    content = json.loads(response.choices[0].message.content)\n",
    "    return content"
   ]
  },
  {
   "cell_type": "code",
   "execution_count": 14,
   "id": "6747b676-667e-484b-a5c2-cbe57aecc0b9",
   "metadata": {},
   "outputs": [],
   "source": [
    "def remove_stopwords(text):\n",
    "    stop_words = set(stopwords.words('english'))\n",
    "    words = word_tokenize(text)\n",
    "    filtered_text = [word for word in words if word.lower() not in stop_words]\n",
    "    return ' '.join(filtered_text)\n",
    "def main(industry):\n",
    "    #get competitors name\n",
    "    message = get_message(task='competitors-name',industry=industry,context='')\n",
    "    competitors_names = get_response(response_schema=LoS,message=message,repetetion_penalty=0.5)['los']\n",
    "    final_report = {}\n",
    "    for competitor in competitors_names[:4]:\n",
    "        \n",
    "        queries = [f'Market share, sales number, global presence, of {competitor} in {industry} industry.',\n",
    "                   f'SWOT Strength, weakness, opportunity and threat of {competitor} in {industry} industry.']\n",
    "        \n",
    "        content = remove_stopwords(WebTool().fetch_content(texts=queries))[:4096*4]\n",
    "        \n",
    "        clean_content = client.chat.completions.create(\n",
    "            model='meta-llama/Llama-3-8b-chat-hf',\n",
    "            messages=[\n",
    "                {\"role\": \"system\", \"content\": \"You are an information retriever and summarizer,ignore everything you know, return only the factual information regarding the QUERY into a maximum of 500-600 words. Output should be concise chunks of paragraphs or tables or both, ignore links, using the RAW TEXT\"},\n",
    "                {\"role\": \"user\", \"content\": f\"QUERY :\\n\\n{','.join(queries)}\\n\\n RAW TEXT :\\n\\n{content}\"} \n",
    "            ],\n",
    "            frequency_penalty = 0.16)\n",
    "\n",
    "        \n",
    "        msg = get_message(task='swot-analysis',competitor_name=competitor,context=clean_content)\n",
    "        swot_report = get_response(response_schema=SWOTAnalysis,message=msg,repetetion_penalty=0.46)\n",
    "        final_report[competitor] = swot_report\n",
    "    return final_report"
   ]
  },
  {
   "cell_type": "code",
   "execution_count": 15,
   "id": "0a08a258-d576-4423-b72c-4933fd62631b",
   "metadata": {},
   "outputs": [
    {
     "name": "stderr",
     "output_type": "stream",
     "text": [
      "/home/ashish/.local/lib/python3.10/site-packages/urllib3/connectionpool.py:1103: InsecureRequestWarning: Unverified HTTPS request is being made to host 'www.mordorintelligence.com'. Adding certificate verification is strongly advised. See: https://urllib3.readthedocs.io/en/latest/advanced-usage.html#tls-warnings\n",
      "  warnings.warn(\n",
      "/home/ashish/.local/lib/python3.10/site-packages/urllib3/connectionpool.py:1103: InsecureRequestWarning: Unverified HTTPS request is being made to host 'www.grandviewresearch.com'. Adding certificate verification is strongly advised. See: https://urllib3.readthedocs.io/en/latest/advanced-usage.html#tls-warnings\n",
      "  warnings.warn(\n",
      "/home/ashish/.local/lib/python3.10/site-packages/urllib3/connectionpool.py:1103: InsecureRequestWarning: Unverified HTTPS request is being made to host 'www.researchgate.net'. Adding certificate verification is strongly advised. See: https://urllib3.readthedocs.io/en/latest/advanced-usage.html#tls-warnings\n",
      "  warnings.warn(\n",
      "/home/ashish/.local/lib/python3.10/site-packages/urllib3/connectionpool.py:1103: InsecureRequestWarning: Unverified HTTPS request is being made to host 'www.fortunebusinessinsights.com'. Adding certificate verification is strongly advised. See: https://urllib3.readthedocs.io/en/latest/advanced-usage.html#tls-warnings\n",
      "  warnings.warn(\n",
      "/home/ashish/.local/lib/python3.10/site-packages/urllib3/connectionpool.py:1103: InsecureRequestWarning: Unverified HTTPS request is being made to host 'www.grandviewresearch.com'. Adding certificate verification is strongly advised. See: https://urllib3.readthedocs.io/en/latest/advanced-usage.html#tls-warnings\n",
      "  warnings.warn(\n",
      "/home/ashish/.local/lib/python3.10/site-packages/urllib3/connectionpool.py:1103: InsecureRequestWarning: Unverified HTTPS request is being made to host 'thestrategystory.com'. Adding certificate verification is strongly advised. See: https://urllib3.readthedocs.io/en/latest/advanced-usage.html#tls-warnings\n",
      "  warnings.warn(\n",
      "/home/ashish/.local/lib/python3.10/site-packages/urllib3/connectionpool.py:1103: InsecureRequestWarning: Unverified HTTPS request is being made to host 'www.businesswire.com'. Adding certificate verification is strongly advised. See: https://urllib3.readthedocs.io/en/latest/advanced-usage.html#tls-warnings\n",
      "  warnings.warn(\n",
      "/home/ashish/.local/lib/python3.10/site-packages/urllib3/connectionpool.py:1103: InsecureRequestWarning: Unverified HTTPS request is being made to host 'businessmodelanalyst.com'. Adding certificate verification is strongly advised. See: https://urllib3.readthedocs.io/en/latest/advanced-usage.html#tls-warnings\n",
      "  warnings.warn(\n",
      "/home/ashish/.local/lib/python3.10/site-packages/urllib3/connectionpool.py:1103: InsecureRequestWarning: Unverified HTTPS request is being made to host 'strategicmanagementinsight.com'. Adding certificate verification is strongly advised. See: https://urllib3.readthedocs.io/en/latest/advanced-usage.html#tls-warnings\n",
      "  warnings.warn(\n",
      "/home/ashish/.local/lib/python3.10/site-packages/urllib3/connectionpool.py:1103: InsecureRequestWarning: Unverified HTTPS request is being made to host 'www.grandviewresearch.com'. Adding certificate verification is strongly advised. See: https://urllib3.readthedocs.io/en/latest/advanced-usage.html#tls-warnings\n",
      "  warnings.warn(\n",
      "/home/ashish/.local/lib/python3.10/site-packages/urllib3/connectionpool.py:1103: InsecureRequestWarning: Unverified HTTPS request is being made to host 'www.fortunebusinessinsights.com'. Adding certificate verification is strongly advised. See: https://urllib3.readthedocs.io/en/latest/advanced-usage.html#tls-warnings\n",
      "  warnings.warn(\n",
      "/home/ashish/.local/lib/python3.10/site-packages/urllib3/connectionpool.py:1103: InsecureRequestWarning: Unverified HTTPS request is being made to host 'www.grandviewresearch.com'. Adding certificate verification is strongly advised. See: https://urllib3.readthedocs.io/en/latest/advanced-usage.html#tls-warnings\n",
      "  warnings.warn(\n",
      "/home/ashish/.local/lib/python3.10/site-packages/urllib3/connectionpool.py:1103: InsecureRequestWarning: Unverified HTTPS request is being made to host 'businessmodelanalyst.com'. Adding certificate verification is strongly advised. See: https://urllib3.readthedocs.io/en/latest/advanced-usage.html#tls-warnings\n",
      "  warnings.warn(\n",
      "/home/ashish/.local/lib/python3.10/site-packages/urllib3/connectionpool.py:1103: InsecureRequestWarning: Unverified HTTPS request is being made to host 'www.fortunebusinessinsights.com'. Adding certificate verification is strongly advised. See: https://urllib3.readthedocs.io/en/latest/advanced-usage.html#tls-warnings\n",
      "  warnings.warn(\n",
      "/home/ashish/.local/lib/python3.10/site-packages/urllib3/connectionpool.py:1103: InsecureRequestWarning: Unverified HTTPS request is being made to host 'seekingalpha.com'. Adding certificate verification is strongly advised. See: https://urllib3.readthedocs.io/en/latest/advanced-usage.html#tls-warnings\n",
      "  warnings.warn(\n"
     ]
    }
   ],
   "source": [
    "r = main('Smart home apliances')"
   ]
  },
  {
   "cell_type": "code",
   "execution_count": 16,
   "id": "825c68f8-25e6-4c03-a24b-603dc1fd0271",
   "metadata": {},
   "outputs": [
    {
     "data": {
      "text/html": [
       "<div>\n",
       "<style scoped>\n",
       "    .dataframe tbody tr th:only-of-type {\n",
       "        vertical-align: middle;\n",
       "    }\n",
       "\n",
       "    .dataframe tbody tr th {\n",
       "        vertical-align: top;\n",
       "    }\n",
       "\n",
       "    .dataframe thead th {\n",
       "        text-align: right;\n",
       "    }\n",
       "</style>\n",
       "<table border=\"1\" class=\"dataframe\">\n",
       "  <thead>\n",
       "    <tr style=\"text-align: right;\">\n",
       "      <th></th>\n",
       "      <th>Nest</th>\n",
       "      <th>Philips Hue</th>\n",
       "      <th>Samsung SmartThings</th>\n",
       "      <th>Apple HomeKit</th>\n",
       "    </tr>\n",
       "  </thead>\n",
       "  <tbody>\n",
       "    <tr>\n",
       "      <th>strength</th>\n",
       "      <td>[Strong brand recognition, Wide range of produ...</td>\n",
       "      <td>[Strong brand recognition and reputation, Wide...</td>\n",
       "      <td>[Brand recognition, Skilled workforce, Diversi...</td>\n",
       "      <td>[Strong brand recognition, Innovative products...</td>\n",
       "    </tr>\n",
       "    <tr>\n",
       "      <th>weakness</th>\n",
       "      <td>[High competition, Dependence on Google resour...</td>\n",
       "      <td>[High prices compared to competitors, Dependen...</td>\n",
       "      <td>[Fierce competition, Dependence on smartphone ...</td>\n",
       "      <td>[High prices, Limited compatibility with non-A...</td>\n",
       "    </tr>\n",
       "    <tr>\n",
       "      <th>opportunity</th>\n",
       "      <td>[Growing demand for smart home solutions, Incr...</td>\n",
       "      <td>[Growing demand for smart home devices, Increa...</td>\n",
       "      <td>[Acquisitions/mergers, Diversification expansi...</td>\n",
       "      <td>[Growing demand for smart home automation, Inc...</td>\n",
       "    </tr>\n",
       "    <tr>\n",
       "      <th>threats</th>\n",
       "      <td>[Competition from established players like Hon...</td>\n",
       "      <td>[Competition from lower-priced brands, Risk of...</td>\n",
       "      <td>[Increasing competition, Controversy/patent in...</td>\n",
       "      <td>[Competition from other smart home companies, ...</td>\n",
       "    </tr>\n",
       "    <tr>\n",
       "      <th>numbers</th>\n",
       "      <td>[Global Smart Home Market Size: USD 370.95 bil...</td>\n",
       "      <td>[According to Strategy Analytics, Philips Hue ...</td>\n",
       "      <td>[]</td>\n",
       "      <td>[Market share: 5-7%, Global market size: $80.2...</td>\n",
       "    </tr>\n",
       "  </tbody>\n",
       "</table>\n",
       "</div>"
      ],
      "text/plain": [
       "                                                          Nest  \\\n",
       "strength     [Strong brand recognition, Wide range of produ...   \n",
       "weakness     [High competition, Dependence on Google resour...   \n",
       "opportunity  [Growing demand for smart home solutions, Incr...   \n",
       "threats      [Competition from established players like Hon...   \n",
       "numbers      [Global Smart Home Market Size: USD 370.95 bil...   \n",
       "\n",
       "                                                   Philips Hue  \\\n",
       "strength     [Strong brand recognition and reputation, Wide...   \n",
       "weakness     [High prices compared to competitors, Dependen...   \n",
       "opportunity  [Growing demand for smart home devices, Increa...   \n",
       "threats      [Competition from lower-priced brands, Risk of...   \n",
       "numbers      [According to Strategy Analytics, Philips Hue ...   \n",
       "\n",
       "                                           Samsung SmartThings  \\\n",
       "strength     [Brand recognition, Skilled workforce, Diversi...   \n",
       "weakness     [Fierce competition, Dependence on smartphone ...   \n",
       "opportunity  [Acquisitions/mergers, Diversification expansi...   \n",
       "threats      [Increasing competition, Controversy/patent in...   \n",
       "numbers                                                     []   \n",
       "\n",
       "                                                 Apple HomeKit  \n",
       "strength     [Strong brand recognition, Innovative products...  \n",
       "weakness     [High prices, Limited compatibility with non-A...  \n",
       "opportunity  [Growing demand for smart home automation, Inc...  \n",
       "threats      [Competition from other smart home companies, ...  \n",
       "numbers      [Market share: 5-7%, Global market size: $80.2...  "
      ]
     },
     "execution_count": 16,
     "metadata": {},
     "output_type": "execute_result"
    }
   ],
   "source": [
    "import pandas\n",
    "pandas.DataFrame(r)"
   ]
  },
  {
   "cell_type": "code",
   "execution_count": 17,
   "id": "b3244fcc-5cd3-4413-939c-73f859ed4b81",
   "metadata": {},
   "outputs": [
    {
     "name": "stdout",
     "output_type": "stream",
     "text": [
      "JSON converted to HTML report\n"
     ]
    }
   ],
   "source": [
    "import json\n",
    "from tools.json2html_report import json2html_report\n",
    "json_response = json.loads(json.dumps(r))\n",
    "html_content = json2html_report(json_data=json_response,report_title='competition analysis')\n",
    "with open('x.html','w') as file:\n",
    "    file.write(html_content)"
   ]
  },
  {
   "cell_type": "code",
   "execution_count": 10,
   "id": "8c78255f-68b9-42c5-9c8e-1c9714e4a7e6",
   "metadata": {},
   "outputs": [],
   "source": []
  },
  {
   "cell_type": "code",
   "execution_count": null,
   "id": "6caa600d-0734-499c-90fa-96ac20fe2a4e",
   "metadata": {},
   "outputs": [],
   "source": []
  }
 ],
 "metadata": {
  "kernelspec": {
   "display_name": "Python 3 (ipykernel)",
   "language": "python",
   "name": "python3"
  },
  "language_info": {
   "codemirror_mode": {
    "name": "ipython",
    "version": 3
   },
   "file_extension": ".py",
   "mimetype": "text/x-python",
   "name": "python",
   "nbconvert_exporter": "python",
   "pygments_lexer": "ipython3",
   "version": "3.10.12"
  }
 },
 "nbformat": 4,
 "nbformat_minor": 5
}
