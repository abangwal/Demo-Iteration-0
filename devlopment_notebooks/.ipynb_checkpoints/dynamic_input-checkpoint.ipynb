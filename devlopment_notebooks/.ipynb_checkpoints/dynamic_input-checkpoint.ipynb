{
 "cells": [
  {
   "cell_type": "code",
   "execution_count": 1,
   "id": "466de681-bdb9-4446-9daa-e1020880689f",
   "metadata": {},
   "outputs": [],
   "source": [
    "from tools.web_tool import WebTool\n",
    "import json\n",
    "import openai\n",
    "from pydantic import BaseModel, Field\n",
    "from typing import List\n",
    "from nltk.corpus import stopwords\n",
    "from nltk.tokenize import word_tokenize\n",
    "\n",
    "# Create client\n",
    "client = openai.OpenAI(\n",
    "    base_url=\"https://api.together.xyz/v1\",\n",
    "    api_key='',\n",
    ")"
   ]
  },
  {
   "cell_type": "code",
   "execution_count": 2,
   "id": "1003c784-32da-4ba3-a39a-d0abfbc1d943",
   "metadata": {},
   "outputs": [],
   "source": [
    "class SubTask(BaseModel):\n",
    "    sub_task : str = Field(description=\"A sub-task name to be done to complete the given task.\")\n",
    "    sub_task_description : str = Field(description=\"Detailed description about the subtask\")\n",
    "\n",
    "class ListOfSubTasks(BaseModel):\n",
    "    sub_tasks : List[SubTask] = Field(description=\"List of subtask to be done to complete the given task at hand.\")"
   ]
  },
  {
   "cell_type": "code",
   "execution_count": 19,
   "id": "2986d8d9-35f1-448e-b3a9-0006f340c718",
   "metadata": {},
   "outputs": [
    {
     "name": "stdout",
     "output_type": "stream",
     "text": [
      " {\n",
      "  \"sub_tasks\": [\n",
      "    {\n",
      "      \"sub_task_description\": \"Research the current state of hydrogen fuel technology in the automotive industry.\"\n",
      "   \n",
      "   \n",
      "   ,\n",
      "      \"sub_task\": \"Identify the key players and companies that are currently investing in and developing hydrogen fuel technology for automotive applications.\"\n",
      "    },\n",
      "    {\n",
      "      \"sub_task_description\": \"Analyze the advantages and disadvantages of using hydrogen fuel in the automotive industry.\"\n",
      "   \n",
      "   \n",
      "   ,\n",
      "      \"sub_task\": \"Compare the cost and efficiency of hydrogen fuel cell vehicles to traditional gasoline and electric vehicles.\"\n",
      "    },\n",
      "    {\n",
      "      \"sub_task_description\": \"Explore the potential for growth and expansion of hydrogen fuel technology in the automotive industry.\"\n",
      "   \n",
      "   \n",
      "   ,\n",
      "      \"sub_task\": \"Identify any barriers or challenges to widespread adoption of hydrogen fuel technology in the automotive industry.\"\n",
      "    },\n",
      "    {\n",
      "      \"sub_task_description\": \"Analyze the potential impact of hydrogen fuel technology on the automotive industry and the broader economy.\"\n",
      "   \n",
      "   \n",
      "   ,\n",
      "      \"sub_task\": \"Consider any potential environmental benefits or drawbacks of using hydrogen fuel in the automotive industry.\"\n",
      "    }\n",
      "  ]\n",
      "}\n"
     ]
    }
   ],
   "source": [
    "user_query = \"Hydrogen fule in automotive industry\"\n",
    "message = [\n",
    "    {\"role\": \"system\", \"content\": \"You are a helpful and experienced market analyst. Use your own intelligence to provide the subtasks for completing the TASK. Dont use any formatting, Answer in provided JSON schema\"},\n",
    "    {\"role\": \"user\", \"content\": f\"Tell subtasks to complete the TASK : {user_query}\"}\n",
    "]\n",
    "response = client.chat.completions.create(\n",
    "    model=\"mistralai/Mixtral-8x7B-Instruct-v0.1\",\n",
    "    messages=message,\n",
    "    response_format={\"type\": \"json_object\", \"schema\": ListOfSubTasks.model_json_schema()},\n",
    "    frequency_penalty = 0.1,\n",
    "    temperature=0\n",
    ")\n",
    "print(response.choices[0].message.content)"
   ]
  },
  {
   "cell_type": "code",
   "execution_count": 20,
   "id": "0f070eae-4b8d-459f-903d-f147d586afa8",
   "metadata": {},
   "outputs": [],
   "source": [
    "def get_sub_tasks(message):\n",
    "    response = client.chat.completions.create(\n",
    "        model=\"mistralai/Mixtral-8x7B-Instruct-v0.1\",\n",
    "        messages=message,\n",
    "        response_format={\"type\": \"json_object\", \"schema\": ListOfSubTasks.model_json_schema()},\n",
    "        frequency_penalty = 0.2,\n",
    "        temperature=0\n",
    "    )\n",
    "    response = response.choices[0].message.content\n",
    "    r = json.loads(response)\n",
    "    sub_tasks = []\n",
    "    sub_tasks_description = []\n",
    "    \n",
    "    for i in r['sub_tasks']:\n",
    "        sub_tasks.append(i['sub_task'])\n",
    "        sub_tasks_description.append(i['sub_task_description'])\n",
    "\n",
    "    return sub_tasks,sub_tasks_description,response"
   ]
  },
  {
   "cell_type": "code",
   "execution_count": 22,
   "id": "cf788c89-6885-4635-85db-ca2766108579",
   "metadata": {},
   "outputs": [
    {
     "name": "stdout",
     "output_type": "stream",
     "text": [
      "User Query : AI in agriculture analysis\n",
      "\n",
      "\n",
      "1. Literature Review\n",
      "2. Market Analysis\n",
      "3. Benefits and Challenges Analysis\n",
      "4. Trends Analysis\n",
      "5. Regulatory Environment Overview\n",
      "6. Impact Analysis\n",
      "7. Environmental Impact Analysis\n",
      "\n",
      "\n",
      "\n"
     ]
    },
    {
     "name": "stdin",
     "output_type": "stream",
     "text": [
      "Enter your choice :  2\n"
     ]
    },
    {
     "name": "stdout",
     "output_type": "stream",
     "text": [
      "User Query : Identify and analyze the key players and companies in the AI in agriculture market.\n",
      "\n",
      "\n",
      "1. List Creation\n",
      "2. Company Information Gathering\n",
      "3. Market Share Analysis\n",
      "4. SWOT Analysis\n",
      "5. Partnerships and Collaborations Analysis\n",
      "6. Recent Developments Analysis\n",
      "\n",
      "\n",
      "\n"
     ]
    },
    {
     "name": "stdin",
     "output_type": "stream",
     "text": [
      "Enter your choice :  2\n"
     ]
    },
    {
     "name": "stdout",
     "output_type": "stream",
     "text": [
      "User Query : Gather information on each company's products, services, and market reach.\n",
      "\n",
      "\n",
      "1. Website Research\n",
      "2. Press Release and News Article Research\n",
      "3. Company Outreach\n",
      "4. Customer Review Analysis\n",
      "5. Awards and Recognition Research\n",
      "6. Case Study Research\n",
      "\n",
      "\n",
      "\n"
     ]
    },
    {
     "name": "stdin",
     "output_type": "stream",
     "text": [
      "Enter your choice :  3\n"
     ]
    }
   ],
   "source": [
    "user_query = \"analysis of AI in agriculture\"\n",
    "message = [\n",
    "    {\"role\": \"system\", \"content\": \"You are a helpful and experienced market analyst. Use your own intelligence to provide the subtasks for completing the TASK. Dont use any formatting, Answer in provided JSON schema\"},\n",
    "    {\"role\": \"user\", \"content\": f\"Tell subtasks to complete the TASK : {user_query}\"}\n",
    "]\n",
    "for i in range(3):\n",
    "    print(f\"User Query : {user_query}\\n\\n\")\n",
    "    sts,stds,assistant = get_sub_tasks(message) \n",
    "    \n",
    "    for e,i in enumerate(sts):\n",
    "        print(f\"{e+1}. {i}\")\n",
    "\n",
    "    print(\"\\n\\n\")\n",
    "\n",
    "    user_input = int(input(\"Enter your choice : \")) - 1\n",
    "    user_query = stds[user_input]\n",
    "\n",
    "    message.append({\"role\":\"assistant\",\"content\":assistant})\n",
    "    message.append({\"role\":\"user\",\"content\":f\"Now Tell me subtasks to complete the TASK : {user_query}\"})"
   ]
  },
  {
   "cell_type": "code",
   "execution_count": null,
   "id": "a9b9d901-2c21-4a6b-a588-9604290930e0",
   "metadata": {},
   "outputs": [],
   "source": []
  }
 ],
 "metadata": {
  "kernelspec": {
   "display_name": "Python 3 (ipykernel)",
   "language": "python",
   "name": "python3"
  },
  "language_info": {
   "codemirror_mode": {
    "name": "ipython",
    "version": 3
   },
   "file_extension": ".py",
   "mimetype": "text/x-python",
   "name": "python",
   "nbconvert_exporter": "python",
   "pygments_lexer": "ipython3",
   "version": "3.10.12"
  }
 },
 "nbformat": 4,
 "nbformat_minor": 5
}
