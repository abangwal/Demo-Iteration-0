{
 "cells": [
  {
   "cell_type": "code",
   "execution_count": 3,
   "id": "466de681-bdb9-4446-9daa-e1020880689f",
   "metadata": {},
   "outputs": [],
   "source": [
    "from tools.web_tool import WebTool\n",
    "import json\n",
    "import openai\n",
    "from pydantic import BaseModel, Field\n",
    "from typing import List\n",
    "from nltk.corpus import stopwords\n",
    "from nltk.tokenize import word_tokenize\n",
    "\n",
    "# Create clientkey\n",
    "client = openai.OpenAI(\n",
    "    base_url=\"https://api.together.xyz/v1\",\n",
    "    api_key='',\n",
    ")"
   ]
  },
  {
   "cell_type": "code",
   "execution_count": 9,
   "id": "1003c784-32da-4ba3-a39a-d0abfbc1d943",
   "metadata": {},
   "outputs": [],
   "source": [
    "class SubTask(BaseModel):\n",
    "    sub_task : str = Field(description=\"A sub-task name to be done to complete the given task.\")\n",
    "    sub_task_description : str = Field(description=\"Detailed description about the subtask\")\n",
    "\n",
    "class ListOfSubTasks(BaseModel):\n",
    "    sub_tasks : List[SubTask] = Field(description=\"List of subtask to be done to complete the given task at hand.\")"
   ]
  },
  {
   "cell_type": "code",
   "execution_count": null,
   "id": "2986d8d9-35f1-448e-b3a9-0006f340c718",
   "metadata": {},
   "outputs": [],
   "source": [
    "user_query = \"Hydrogen fule in automotive industry analysis\"\n",
    "message = [\n",
    "    {\"role\": \"system\", \"content\": \"You are a helpful and experienced market analyst. Use your own intelligence to provide the tasks and subtasks for completing the GOAL. Dont use any formatting, Answer in provided JSON schema\"},\n",
    "    {\"role\": \"user\", \"content\": f\"Tell subtasks to complete the GOAL : {user_query}\"}\n",
    "]\n",
    "response = client.chat.completions.create(\n",
    "    model=\"mistralai/Mixtral-8x7B-Instruct-v0.1\",\n",
    "    messages=message,\n",
    "    response_format={\"type\": \"json_object\", \"schema\": ListOfSubTasks.model_json_schema()},\n",
    "    frequency_penalty = 0.1,\n",
    "    temperature=0\n",
    ")\n",
    "print(response.choices[0].message.content)"
   ]
  },
  {
   "cell_type": "code",
   "execution_count": 16,
   "id": "0f070eae-4b8d-459f-903d-f147d586afa8",
   "metadata": {},
   "outputs": [],
   "source": [
    "def get_sub_tasks(message):\n",
    "    response = client.chat.completions.create(\n",
    "        model=\"mistralai/Mixtral-8x7B-Instruct-v0.1\",\n",
    "        messages=message,\n",
    "        response_format={\"type\": \"json_object\", \"schema\": ListOfSubTasks.model_json_schema()},\n",
    "        frequency_penalty = 0.2,\n",
    "        temperature=0.1\n",
    "    )\n",
    "    response = response.choices[0].message.content\n",
    "    r = json.loads(response)\n",
    "    sub_tasks = []\n",
    "    sub_tasks_description = []\n",
    "    \n",
    "    for i in r['sub_tasks']:\n",
    "        sub_tasks.append(i['sub_task'])\n",
    "        sub_tasks_description.append(i['sub_task_description'])\n",
    "\n",
    "    return sub_tasks,sub_tasks_description,response"
   ]
  },
  {
   "cell_type": "code",
   "execution_count": null,
   "id": "cf788c89-6885-4635-85db-ca2766108579",
   "metadata": {},
   "outputs": [
    {
     "name": "stdout",
     "output_type": "stream",
     "text": [
      "User Query : Pizza cafe business analysis\n",
      "\n",
      "\n",
      "Running 1/7\n",
      "Running 2/7\n",
      "Running 3/7\n",
      "Running 4/7\n",
      "Running 5/7\n",
      "Running 6/7\n",
      "Running 7/7\n"
     ]
    }
   ],
   "source": [
    "user_query = \"Pizza cafe business analysis\"\n",
    "data_dict = {user_query : {}}\n",
    "message = [\n",
    "    {\"role\": \"system\", \"content\": \"You are a helpful and experienced market analyst. Use your own intelligence to provide the subtasks for completing the TASK. Dont use any formatting, Answer in provided JSON schema\"},\n",
    "    {\"role\": \"user\", \"content\": f\"Tell subtasks to complete the TASK : {user_query}\"}\n",
    "]\n",
    "\n",
    "print(f\"User Query : {user_query}\\n\\n\")\n",
    "sub_tasks,sub_task_descriptions,assistants = get_sub_tasks(message) \n",
    "    \n",
    "for i in range(len(sub_tasks)):\n",
    "    print(f\"Running {i+1}/{len(sub_tasks)}\")\n",
    "    query = sub_task_descriptions[i]\n",
    "    temp_msg = message.copy()\n",
    "    temp_msg.append({\"role\":\"assistant\",\"content\":assistants})\n",
    "    temp_msg.append({\"role\":\"user\",\"content\":f\"Now Tell me subtasks to complete the TASK : {query}\"})\n",
    "    sts,stds,_ = get_sub_tasks(temp_msg)\n",
    "    response = list(zip(sts,stds))\n",
    "    data_dict[user_query][sub_tasks[i]] = response"
   ]
  },
  {
   "cell_type": "code",
   "execution_count": 29,
   "id": "43c2ebfc-dbdc-4358-a883-0917f536bac4",
   "metadata": {},
   "outputs": [],
   "source": [
    "import json\n",
    "with open(\"example.json\",'w') as file:\n",
    "    json.dump(data_dict,file)"
   ]
  },
  {
   "cell_type": "code",
   "execution_count": null,
   "id": "744e58e7-9d00-48a5-afe4-eebd1acfdee4",
   "metadata": {},
   "outputs": [],
   "source": []
  }
 ],
 "metadata": {
  "kernelspec": {
   "display_name": "Python 3 (ipykernel)",
   "language": "python",
   "name": "python3"
  },
  "language_info": {
   "codemirror_mode": {
    "name": "ipython",
    "version": 3
   },
   "file_extension": ".py",
   "mimetype": "text/x-python",
   "name": "python",
   "nbconvert_exporter": "python",
   "pygments_lexer": "ipython3",
   "version": "3.10.12"
  }
 },
 "nbformat": 4,
 "nbformat_minor": 5
}
